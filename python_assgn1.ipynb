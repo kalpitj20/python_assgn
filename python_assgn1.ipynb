{
 "cells": [
  {
   "cell_type": "markdown",
   "id": "9aa3752b",
   "metadata": {},
   "source": [
    "# 1. In the below elements which of them are values or an expression? eg:- values can be\n",
    "integer or string and expressions will be mathematical operators."
   ]
  },
  {
   "cell_type": "markdown",
   "id": "6dba51d9",
   "metadata": {},
   "source": [
    "'*' its a mathematical operator for multiplication so its an expression"
   ]
  },
  {
   "cell_type": "code",
   "execution_count": 1,
   "id": "482e14f5",
   "metadata": {},
   "outputs": [
    {
     "data": {
      "text/plain": [
       "str"
      ]
     },
     "execution_count": 1,
     "metadata": {},
     "output_type": "execute_result"
    }
   ],
   "source": [
    "a='hello'\n",
    "type(a)"
   ]
  },
  {
   "cell_type": "markdown",
   "id": "2be80093",
   "metadata": {},
   "source": [
    "'hello' its a string so it is a value"
   ]
  },
  {
   "cell_type": "code",
   "execution_count": 2,
   "id": "37db4c81",
   "metadata": {},
   "outputs": [
    {
     "data": {
      "text/plain": [
       "float"
      ]
     },
     "execution_count": 2,
     "metadata": {},
     "output_type": "execute_result"
    }
   ],
   "source": [
    "a=-87.8\n",
    "type(a)"
   ]
  },
  {
   "cell_type": "markdown",
   "id": "48c84ca1",
   "metadata": {},
   "source": [
    "-87.8 is a float datatype and it represent a value"
   ]
  },
  {
   "cell_type": "markdown",
   "id": "4d4dfe84",
   "metadata": {},
   "source": [
    "'#' - , / , +  these are mathematical operators so these are expressions"
   ]
  },
  {
   "cell_type": "markdown",
   "id": "3bb53255",
   "metadata": {},
   "source": [
    "6 it's an integer value."
   ]
  },
  {
   "cell_type": "markdown",
   "id": "c2149fc3",
   "metadata": {},
   "source": [
    "# 2. What is the difference between string and variable?"
   ]
  },
  {
   "cell_type": "markdown",
   "id": "9980b23f",
   "metadata": {},
   "source": [
    "String is a type of data than can be stored in a variable. It represents the values inside the quotes.\n",
    "Variable is a name given to the location in memory which can store the values like any number or string"
   ]
  },
  {
   "cell_type": "markdown",
   "id": "96bf87ba",
   "metadata": {},
   "source": [
    "# 3. Describe three different data types."
   ]
  },
  {
   "cell_type": "markdown",
   "id": "0353a3ab",
   "metadata": {},
   "source": [
    "1) int: This function is used to get integer data type values. Integers can be zero,positive or negative whole numbers\n",
    "    without fractional part.\n",
    "2) str: This function is used to get the string data type values. String is a collection of one or more characters\n",
    "    put in single or double quote.\n",
    "3) float: This function is used to get the floating values i.e that have decimal points.\n",
    "    floating point number can be represented as '1.0' and integer can be represented as '1'"
   ]
  },
  {
   "cell_type": "markdown",
   "id": "015f50d8",
   "metadata": {},
   "source": [
    "# 4. What is an expression made up of? What do all expressions do?"
   ]
  },
  {
   "cell_type": "markdown",
   "id": "63475886",
   "metadata": {},
   "source": [
    "An expression is a combination of values, variables, operators, and calls to functions. Expressions need to be evaluated\n",
    "For example any string is also an expressions since it represents the value of the string.\n",
    "The evaluation of an expression produces a value, which is why expressions can appear on the right hand side \n",
    "of assignment statements. A value all by itself is a simple expression, and so is a variable. \n",
    "Evaluating a variable gives the value that the variable refers to."
   ]
  },
  {
   "cell_type": "markdown",
   "id": "76a02155",
   "metadata": {},
   "source": [
    "# 5. This assignment statements, like spam = 10. What is the difference between an expression and a statement?"
   ]
  },
  {
   "cell_type": "code",
   "execution_count": 23,
   "id": "b032fbf6",
   "metadata": {},
   "outputs": [],
   "source": [
    "spam=10"
   ]
  },
  {
   "cell_type": "markdown",
   "id": "2b8aeb2a",
   "metadata": {},
   "source": [
    "A statement is an instruction that the Python interpreter can execute.\n",
    "In the above assignment statement it does not return a value its simply executed.\n",
    "An expression is a combination of values and functions that are combined and interpreted \n",
    "by the compiler to create a new value, as opposed to a statement which is just a standalone \n",
    "unit of execution and doesn't return anything.\n",
    "Other type of statements in Python are – if statement, else statement, while statement, for statement, import statement, etc.\n",
    "Evaluation of an expression always Produces or returns a result value.\n",
    "Execution of a statement may or may not produces or displays a result value, it only does whatever the statement says.\n",
    "Every expression can’t be a statement.\n",
    "Every statement can be an expression.\n",
    "Example of expression: a + 10\n",
    "Example of statement: a = 10"
   ]
  },
  {
   "cell_type": "markdown",
   "id": "0d4fe255",
   "metadata": {},
   "source": [
    "# 6. After running the following code, what does the variable bacon contain?\n",
    "bacon = 22\n",
    "bacon + 1"
   ]
  },
  {
   "cell_type": "code",
   "execution_count": 6,
   "id": "c87798a9",
   "metadata": {},
   "outputs": [
    {
     "data": {
      "text/plain": [
       "23"
      ]
     },
     "execution_count": 6,
     "metadata": {},
     "output_type": "execute_result"
    }
   ],
   "source": [
    "bacon = 22\n",
    "bacon + 1"
   ]
  },
  {
   "cell_type": "code",
   "execution_count": 7,
   "id": "28574699",
   "metadata": {},
   "outputs": [
    {
     "data": {
      "text/plain": [
       "22"
      ]
     },
     "execution_count": 7,
     "metadata": {},
     "output_type": "execute_result"
    }
   ],
   "source": [
    "bacon"
   ]
  },
  {
   "cell_type": "markdown",
   "id": "82329566",
   "metadata": {},
   "source": [
    "variable bacon will conatin value 22"
   ]
  },
  {
   "cell_type": "markdown",
   "id": "3bc3834f",
   "metadata": {},
   "source": [
    "# 7. What should the values of the following two terms be?\n"
   ]
  },
  {
   "cell_type": "code",
   "execution_count": 8,
   "id": "9fbb0f59",
   "metadata": {},
   "outputs": [
    {
     "data": {
      "text/plain": [
       "'spamspamspam'"
      ]
     },
     "execution_count": 8,
     "metadata": {},
     "output_type": "execute_result"
    }
   ],
   "source": [
    "'spam'+'spamspam'"
   ]
  },
  {
   "cell_type": "markdown",
   "id": "c009e269",
   "metadata": {},
   "source": [
    "The above concatenates the two strings together 'spam' & 'spamspam'"
   ]
  },
  {
   "cell_type": "code",
   "execution_count": 9,
   "id": "512248e0",
   "metadata": {},
   "outputs": [
    {
     "data": {
      "text/plain": [
       "'spamspamspam'"
      ]
     },
     "execution_count": 9,
     "metadata": {},
     "output_type": "execute_result"
    }
   ],
   "source": [
    "'spam' * 3"
   ]
  },
  {
   "cell_type": "markdown",
   "id": "a24f7c84",
   "metadata": {},
   "source": [
    "The above operation concatenates the word 'spam' three times"
   ]
  },
  {
   "cell_type": "markdown",
   "id": "af540cd1",
   "metadata": {},
   "source": [
    "# 8. Why is eggs a valid variable name while 100 is invalid?"
   ]
  },
  {
   "cell_type": "code",
   "execution_count": 10,
   "id": "cef472ed",
   "metadata": {},
   "outputs": [
    {
     "data": {
      "text/plain": [
       "100"
      ]
     },
     "execution_count": 10,
     "metadata": {},
     "output_type": "execute_result"
    }
   ],
   "source": [
    "eggs=100\n",
    "eggs"
   ]
  },
  {
   "cell_type": "code",
   "execution_count": 12,
   "id": "29192ae7",
   "metadata": {},
   "outputs": [
    {
     "ename": "SyntaxError",
     "evalue": "cannot assign to literal (<ipython-input-12-3721d402feea>, line 1)",
     "output_type": "error",
     "traceback": [
      "\u001b[1;36m  File \u001b[1;32m\"<ipython-input-12-3721d402feea>\"\u001b[1;36m, line \u001b[1;32m1\u001b[0m\n\u001b[1;33m    100='eggs'\u001b[0m\n\u001b[1;37m    ^\u001b[0m\n\u001b[1;31mSyntaxError\u001b[0m\u001b[1;31m:\u001b[0m cannot assign to literal\n"
     ]
    }
   ],
   "source": [
    "100='eggs'\n",
    "100"
   ]
  },
  {
   "cell_type": "code",
   "execution_count": 13,
   "id": "40d88465",
   "metadata": {},
   "outputs": [
    {
     "ename": "SyntaxError",
     "evalue": "invalid syntax (<ipython-input-13-2b6978cf91b5>, line 1)",
     "output_type": "error",
     "traceback": [
      "\u001b[1;36m  File \u001b[1;32m\"<ipython-input-13-2b6978cf91b5>\"\u001b[1;36m, line \u001b[1;32m1\u001b[0m\n\u001b[1;33m    1egg=10\u001b[0m\n\u001b[1;37m     ^\u001b[0m\n\u001b[1;31mSyntaxError\u001b[0m\u001b[1;31m:\u001b[0m invalid syntax\n"
     ]
    }
   ],
   "source": [
    "1egg=10\n",
    "1egg"
   ]
  },
  {
   "cell_type": "markdown",
   "id": "b78407aa",
   "metadata": {},
   "source": [
    "As we can see above python allows only text to be assigned as variable name while it does not allow literals as a variable"
   ]
  },
  {
   "cell_type": "markdown",
   "id": "3d137a17",
   "metadata": {},
   "source": [
    "# 9. What three functions can be used to get the integer, floating-point number, or string version of a value?"
   ]
  },
  {
   "cell_type": "code",
   "execution_count": 18,
   "id": "79e4dcc7",
   "metadata": {},
   "outputs": [],
   "source": [
    "#suppose\n",
    "a=100.23"
   ]
  },
  {
   "cell_type": "code",
   "execution_count": 19,
   "id": "f1fb7531",
   "metadata": {},
   "outputs": [
    {
     "data": {
      "text/plain": [
       "100"
      ]
     },
     "execution_count": 19,
     "metadata": {},
     "output_type": "execute_result"
    }
   ],
   "source": [
    "int(a)"
   ]
  },
  {
   "cell_type": "code",
   "execution_count": 20,
   "id": "72a0b1c1",
   "metadata": {},
   "outputs": [
    {
     "data": {
      "text/plain": [
       "100.23"
      ]
     },
     "execution_count": 20,
     "metadata": {},
     "output_type": "execute_result"
    }
   ],
   "source": [
    "float(a)"
   ]
  },
  {
   "cell_type": "code",
   "execution_count": 21,
   "id": "b1db7f2c",
   "metadata": {},
   "outputs": [
    {
     "data": {
      "text/plain": [
       "'100.23'"
      ]
     },
     "execution_count": 21,
     "metadata": {},
     "output_type": "execute_result"
    }
   ],
   "source": [
    "str(a)"
   ]
  },
  {
   "cell_type": "markdown",
   "id": "f1cbfad9",
   "metadata": {},
   "source": [
    "So we 'int' is used to get the integer version, 'float' is used to get the floating-point number version and 'str' for string version of a value."
   ]
  },
  {
   "cell_type": "markdown",
   "id": "9bd939e4",
   "metadata": {},
   "source": [
    "# 10. Why does this expression cause an error? How can you fix it?"
   ]
  },
  {
   "cell_type": "code",
   "execution_count": 14,
   "id": "731ca99e",
   "metadata": {},
   "outputs": [
    {
     "ename": "TypeError",
     "evalue": "can only concatenate str (not \"int\") to str",
     "output_type": "error",
     "traceback": [
      "\u001b[1;31m---------------------------------------------------------------------------\u001b[0m",
      "\u001b[1;31mTypeError\u001b[0m                                 Traceback (most recent call last)",
      "\u001b[1;32m<ipython-input-14-ed184e65e850>\u001b[0m in \u001b[0;36m<module>\u001b[1;34m\u001b[0m\n\u001b[1;32m----> 1\u001b[1;33m \u001b[1;34m'I have eaten '\u001b[0m\u001b[1;33m+\u001b[0m\u001b[1;36m99\u001b[0m\u001b[1;33m+\u001b[0m\u001b[1;34m'burritos'\u001b[0m\u001b[1;33m\u001b[0m\u001b[1;33m\u001b[0m\u001b[0m\n\u001b[0m",
      "\u001b[1;31mTypeError\u001b[0m: can only concatenate str (not \"int\") to str"
     ]
    }
   ],
   "source": [
    "'I have eaten '+99+'burritos'"
   ]
  },
  {
   "cell_type": "code",
   "execution_count": 16,
   "id": "b548de34",
   "metadata": {},
   "outputs": [
    {
     "data": {
      "text/plain": [
       "'I have eaten 99 burritos'"
      ]
     },
     "execution_count": 16,
     "metadata": {},
     "output_type": "execute_result"
    }
   ],
   "source": [
    "'I have eaten '+str(99)+' burritos'"
   ]
  },
  {
   "cell_type": "markdown",
   "id": "c407595b",
   "metadata": {},
   "source": [
    "As we can see above the integer can't be concatenated with string value so we had to convert '99' to string data type and then run the statement again."
   ]
  }
 ],
 "metadata": {
  "kernelspec": {
   "display_name": "Python 3",
   "language": "python",
   "name": "python3"
  },
  "language_info": {
   "codemirror_mode": {
    "name": "ipython",
    "version": 3
   },
   "file_extension": ".py",
   "mimetype": "text/x-python",
   "name": "python",
   "nbconvert_exporter": "python",
   "pygments_lexer": "ipython3",
   "version": "3.8.8"
  }
 },
 "nbformat": 4,
 "nbformat_minor": 5
}
