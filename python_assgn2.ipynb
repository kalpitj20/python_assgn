{
 "cells": [
  {
   "cell_type": "markdown",
   "id": "f3c9cba1",
   "metadata": {},
   "source": [
    "# 1.What are the two values of the Boolean data type? How do you write them?"
   ]
  },
  {
   "cell_type": "markdown",
   "id": "20320fab",
   "metadata": {},
   "source": [
    "Boolean data type is python built-in data type and represents two values True or False\n",
    "It is used to represent the truth values of the expressions. For example, 1==0 is True whereas 2<1 is False. \n",
    "Positive and Negative numbers have a boolean value of True while 0 has boolean value of False."
   ]
  },
  {
   "cell_type": "code",
   "execution_count": 1,
   "id": "f309e8f7",
   "metadata": {},
   "outputs": [
    {
     "name": "stdout",
     "output_type": "stream",
     "text": [
      "False\n"
     ]
    }
   ],
   "source": [
    "#example below program returns False as x is not equal to y\n",
    "x = 5\n",
    "y = 10\n",
    "print(bool(x==y))"
   ]
  },
  {
   "cell_type": "markdown",
   "id": "c5835868",
   "metadata": {},
   "source": [
    "# 2. What are the three different types of Boolean operators?"
   ]
  },
  {
   "cell_type": "markdown",
   "id": "a130faec",
   "metadata": {},
   "source": [
    "AND, Or, and NOT are three different type of Boolean opearator\n",
    "example: if a > b or b < c:"
   ]
  },
  {
   "cell_type": "markdown",
   "id": "20294cdf",
   "metadata": {},
   "source": [
    "# 3. Make a list of each Boolean operator's truth tables (i.e. every possible combination of Boolean\n",
    "values for the operator and what it evaluate )."
   ]
  },
  {
   "cell_type": "markdown",
   "id": "59007204",
   "metadata": {},
   "source": [
    "OR opeartor\n",
    "The Boolean or operator returns True if any one of the inputs is True else returns False.\n",
    "Truth table:\n",
    "A     B      A or B\n",
    "True  True    True\n",
    "True  False   True\n",
    "False True    True\n",
    "False False   False"
   ]
  },
  {
   "cell_type": "code",
   "execution_count": 2,
   "id": "7708a791",
   "metadata": {},
   "outputs": [
    {
     "name": "stdout",
     "output_type": "stream",
     "text": [
      "True\n",
      "Atleast one number has boolean value as True\n"
     ]
    }
   ],
   "source": [
    "# program to demonstrate or operator\n",
    "a = 5\n",
    "b = 6\n",
    "c = 7\n",
    "if a > b or b < c:\n",
    "    print(True)\n",
    "else:\n",
    "    print(False)\n",
    " \n",
    "if a or b or c:\n",
    "    print(\"Atleast one number has boolean value as True\")"
   ]
  },
  {
   "cell_type": "markdown",
   "id": "04c6ab73",
   "metadata": {},
   "source": [
    "And Operator\n",
    "The Boolean and operator returns False if any one of the inputs is False else returns True.\n",
    "Truth table:\n",
    "A     B      A and B\n",
    "True  True    True\n",
    "True  False   False\n",
    "False True    False\n",
    "False False   False"
   ]
  },
  {
   "cell_type": "code",
   "execution_count": 3,
   "id": "b9deff96",
   "metadata": {},
   "outputs": [
    {
     "name": "stdout",
     "output_type": "stream",
     "text": [
      "False\n",
      "Atleast one number has boolean value as False\n"
     ]
    }
   ],
   "source": [
    "# program to demonstrate and operator\n",
    " \n",
    "a = 0\n",
    "b = 2\n",
    "c = 4\n",
    " \n",
    "if a > b and b<c:\n",
    "    print(True)\n",
    "else:\n",
    "    print(False)\n",
    "      \n",
    "if a and b and c:\n",
    "    print(\"All the numbers has boolean value as True\")\n",
    "else:\n",
    "    print(\"Atleast one number has boolean value as False\")"
   ]
  },
  {
   "cell_type": "markdown",
   "id": "0c4b1b8d",
   "metadata": {},
   "source": [
    "Not Operator\n",
    "The Boolean Not operator only require one argument and returns the negation of the argument \n",
    "i.e. returns the True for False and False for True.\n",
    "Truth table:\n",
    "A     Not A\n",
    "True  False\n",
    "False True"
   ]
  },
  {
   "cell_type": "code",
   "execution_count": 4,
   "id": "88ee3847",
   "metadata": {},
   "outputs": [
    {
     "name": "stdout",
     "output_type": "stream",
     "text": [
      "Boolean value of a is False\n"
     ]
    }
   ],
   "source": [
    "# program to demonstrate not operator\n",
    "a = 0 \n",
    "if not a:\n",
    "    print(\"Boolean value of a is False\")"
   ]
  },
  {
   "cell_type": "markdown",
   "id": "82104df6",
   "metadata": {},
   "source": [
    "# 4. What are the values of the following expressions?"
   ]
  },
  {
   "cell_type": "code",
   "execution_count": 5,
   "id": "808ebae8",
   "metadata": {},
   "outputs": [
    {
     "data": {
      "text/plain": [
       "False"
      ]
     },
     "execution_count": 5,
     "metadata": {},
     "output_type": "execute_result"
    }
   ],
   "source": [
    "(5 > 4) and (3 == 5)  #since the truth value for True and False in And opeartor is False"
   ]
  },
  {
   "cell_type": "code",
   "execution_count": 6,
   "id": "11547ffd",
   "metadata": {},
   "outputs": [
    {
     "data": {
      "text/plain": [
       "False"
      ]
     },
     "execution_count": 6,
     "metadata": {},
     "output_type": "execute_result"
    }
   ],
   "source": [
    "not (5 > 4) #not opeartor returns the negation of the argument"
   ]
  },
  {
   "cell_type": "code",
   "execution_count": 7,
   "id": "19b3bbcd",
   "metadata": {},
   "outputs": [
    {
     "data": {
      "text/plain": [
       "True"
      ]
     },
     "execution_count": 7,
     "metadata": {},
     "output_type": "execute_result"
    }
   ],
   "source": [
    "(5 > 4) or (3 == 5)  # since the truth value for True or False in Or opeartor is True"
   ]
  },
  {
   "cell_type": "code",
   "execution_count": 8,
   "id": "0377c342",
   "metadata": {},
   "outputs": [
    {
     "data": {
      "text/plain": [
       "False"
      ]
     },
     "execution_count": 8,
     "metadata": {},
     "output_type": "execute_result"
    }
   ],
   "source": [
    "not ((5 > 4) or (3 == 5)) # inner bracket has Or operator so its True .Then we apply negation of it so result is False"
   ]
  },
  {
   "cell_type": "code",
   "execution_count": 9,
   "id": "ab1382b5",
   "metadata": {},
   "outputs": [
    {
     "data": {
      "text/plain": [
       "False"
      ]
     },
     "execution_count": 9,
     "metadata": {},
     "output_type": "execute_result"
    }
   ],
   "source": [
    "(True and True) and (True == False)  \n",
    "# first bracket result is True while the second bracket result is False so And of both bracket yields False"
   ]
  },
  {
   "cell_type": "code",
   "execution_count": 10,
   "id": "08be3a32",
   "metadata": {},
   "outputs": [
    {
     "data": {
      "text/plain": [
       "True"
      ]
     },
     "execution_count": 10,
     "metadata": {},
     "output_type": "execute_result"
    }
   ],
   "source": [
    "(not False) or (not True)   \n",
    "#negation of first bracket is True while negation of second bracket is False. Or of both brackets resluts True "
   ]
  },
  {
   "cell_type": "markdown",
   "id": "16c61f26",
   "metadata": {},
   "source": [
    "# 5. What are the six comparison operators?"
   ]
  },
  {
   "cell_type": "code",
   "execution_count": 23,
   "id": "6da23758",
   "metadata": {},
   "outputs": [
    {
     "data": {
      "text/plain": [
       "True"
      ]
     },
     "execution_count": 23,
     "metadata": {},
     "output_type": "execute_result"
    }
   ],
   "source": [
    "# 1) Less Than (<) Operator\n",
    "# this operator checks if the left value is lesser than that on the right.\n",
    "3<6"
   ]
  },
  {
   "cell_type": "code",
   "execution_count": 22,
   "id": "211fecfd",
   "metadata": {},
   "outputs": [
    {
     "data": {
      "text/plain": [
       "False"
      ]
     },
     "execution_count": 22,
     "metadata": {},
     "output_type": "execute_result"
    }
   ],
   "source": [
    "# 2) Greater Than (>) Operator\n",
    "# this operator checks whether the left value is greater than the one on the right.\n",
    "(3,4,5)>(3,4,5.0)"
   ]
  },
  {
   "cell_type": "code",
   "execution_count": 19,
   "id": "e467cd73",
   "metadata": {},
   "outputs": [
    {
     "data": {
      "text/plain": [
       "True"
      ]
     },
     "execution_count": 19,
     "metadata": {},
     "output_type": "execute_result"
    }
   ],
   "source": [
    "# 3) Less Than or Equal To (<=) Operator\n",
    "#this operator returns True only if the value on the left is either less than or equal to that on the right of the operator.\n",
    "2<=2*2"
   ]
  },
  {
   "cell_type": "code",
   "execution_count": 18,
   "id": "ba4295b2",
   "metadata": {},
   "outputs": [
    {
     "data": {
      "text/plain": [
       "True"
      ]
     },
     "execution_count": 18,
     "metadata": {},
     "output_type": "execute_result"
    }
   ],
   "source": [
    "# 4) Equal To or Greater Than (>=) Operator\n",
    "# this operator returns True only if the value on the left is greater than or equal to that on the right.\n",
    "3.14>=3.14"
   ]
  },
  {
   "cell_type": "code",
   "execution_count": 16,
   "id": "b3edadeb",
   "metadata": {},
   "outputs": [
    {
     "data": {
      "text/plain": [
       "False"
      ]
     },
     "execution_count": 16,
     "metadata": {},
     "output_type": "execute_result"
    }
   ],
   "source": [
    "# 5) Equal To (==) Operator\n",
    "# The equal to operator returns True if the values on either side of the operator are equal.\n",
    "3=='3'"
   ]
  },
  {
   "cell_type": "code",
   "execution_count": 14,
   "id": "4f55ea7b",
   "metadata": {},
   "outputs": [
    {
     "data": {
      "text/plain": [
       "False"
      ]
     },
     "execution_count": 14,
     "metadata": {},
     "output_type": "execute_result"
    }
   ],
   "source": [
    "# 6) Not Equal Operator (!=) Operator\n",
    "# It returns True if the values on either side of the operator are unequal.\n",
    "3!=3.0"
   ]
  },
  {
   "cell_type": "markdown",
   "id": "c5f9ce08",
   "metadata": {},
   "source": [
    "# 6. How do you tell the difference between the equal to and assignment operators? Describe a condition and when you would use one."
   ]
  },
  {
   "cell_type": "code",
   "execution_count": 24,
   "id": "1906fb60",
   "metadata": {},
   "outputs": [
    {
     "name": "stdout",
     "output_type": "stream",
     "text": [
      "values are not equal\n"
     ]
    }
   ],
   "source": [
    "a=5\n",
    "b=6\n",
    "if a==b:\n",
    "    print('equal to operator example')\n",
    "else:\n",
    "    print('values are not equal')"
   ]
  },
  {
   "cell_type": "markdown",
   "id": "fb5c03e3",
   "metadata": {},
   "source": [
    "In above example 'a=5' and 'b=6' '=' is an assignment opeartor. Whereas '==' is an equal to operator\n",
    "The “=” is an assignment operator is used to assign the value on the right to the variable on the left. \n",
    "The '==' operator checks whether the two given operands are equal or not. If so, it returns true. Otherwise it returns false"
   ]
  },
  {
   "cell_type": "markdown",
   "id": "f4a80f09",
   "metadata": {},
   "source": [
    "# 7. Identify the three blocks in this code:"
   ]
  },
  {
   "cell_type": "code",
   "execution_count": 26,
   "id": "45f37902",
   "metadata": {},
   "outputs": [
    {
     "name": "stdout",
     "output_type": "stream",
     "text": [
      "ham\n",
      "spam\n",
      "spam\n"
     ]
    }
   ],
   "source": [
    "spam = 0\n",
    "if spam == 10:\n",
    "    print('eggs')\n",
    "if spam > 5:\n",
    "    print('bacon')\n",
    "else:\n",
    "    print('ham')\n",
    "    print('spam')\n",
    "    print('spam')"
   ]
  },
  {
   "cell_type": "markdown",
   "id": "0b6d551a",
   "metadata": {},
   "source": [
    "In above program first block is the 'if' block , second block is again 'if' block and last one is 'else' block"
   ]
  },
  {
   "cell_type": "markdown",
   "id": "5766776f",
   "metadata": {},
   "source": [
    "# 8. Write code that prints Hello if 1 is stored in spam, prints Howdy if 2 is stored in spam, and prints Greetings! if anything else is stored in spam."
   ]
  },
  {
   "cell_type": "code",
   "execution_count": 27,
   "id": "aa9789ef",
   "metadata": {},
   "outputs": [
    {
     "name": "stdout",
     "output_type": "stream",
     "text": [
      "enter number3\n",
      "Greetings!\n"
     ]
    }
   ],
   "source": [
    "spam=int(input('enter number'))\n",
    "if spam==1:\n",
    "    print('Hello')\n",
    "elif spam==2:\n",
    "    print('Howdy')\n",
    "else:\n",
    "    print('Greetings!')"
   ]
  },
  {
   "cell_type": "code",
   "execution_count": 12,
   "id": "86488881",
   "metadata": {},
   "outputs": [
    {
     "name": "stdout",
     "output_type": "stream",
     "text": [
      "enter number2\n"
     ]
    },
    {
     "data": {
      "text/plain": [
       "['Howdy']"
      ]
     },
     "execution_count": 12,
     "metadata": {},
     "output_type": "execute_result"
    }
   ],
   "source": [
    "spam=input('enter number')\n",
    "['Hello' if spam=='1' else 'Howdy' if spam=='2' else 'Greetings!']"
   ]
  },
  {
   "cell_type": "markdown",
   "id": "8fe8274b",
   "metadata": {},
   "source": [
    "# 9.If your programme is stuck in an endless loop, what keys you’ll press?"
   ]
  },
  {
   "cell_type": "markdown",
   "id": "4acdaa41",
   "metadata": {},
   "source": [
    "CTRL + C"
   ]
  },
  {
   "cell_type": "markdown",
   "id": "51a02d9f",
   "metadata": {},
   "source": [
    "# 10. How can you tell the difference between break and continue?"
   ]
  },
  {
   "cell_type": "markdown",
   "id": "96a4669b",
   "metadata": {},
   "source": [
    "Break statement is used to break  for loop or while conditional loop. \n",
    "When the loop ends the code picks up from and executes the next line immediately following the loop that was broken."
   ]
  },
  {
   "cell_type": "code",
   "execution_count": 18,
   "id": "a96042be",
   "metadata": {},
   "outputs": [
    {
     "name": "stdout",
     "output_type": "stream",
     "text": [
      "1\n",
      "2\n",
      "sum  3\n"
     ]
    }
   ],
   "source": [
    "# the loop will break after the count is equal to 2.\n",
    "number = (1, 2, 3)\n",
    "sum = 0\n",
    "count = 0\n",
    "for x in number:\n",
    "        sum += x\n",
    "        count += 1\n",
    "        print(count)\n",
    "        if count == 2:\n",
    "            break\n",
    "print('sum ',sum)"
   ]
  },
  {
   "cell_type": "markdown",
   "id": "2e4d0130",
   "metadata": {},
   "source": [
    "The continue statement is used to skip code within a loop for certain iterations of the loop. \n",
    "After the code is skipped, the loop continues where it left off."
   ]
  },
  {
   "cell_type": "code",
   "execution_count": 19,
   "id": "c9760634",
   "metadata": {},
   "outputs": [
    {
     "name": "stdout",
     "output_type": "stream",
     "text": [
      "0\n",
      "1\n",
      "3\n"
     ]
    }
   ],
   "source": [
    "# This example would print all numbers from 0-4 except 2.\n",
    "for x in range(4):\n",
    "   if (x==2):\n",
    "      continue\n",
    "   print(x)"
   ]
  },
  {
   "cell_type": "markdown",
   "id": "371d4f88",
   "metadata": {},
   "source": [
    "# 11. In a for loop, what is the difference between range(10), range(0, 10), and range(0, 10, 1)?"
   ]
  },
  {
   "cell_type": "code",
   "execution_count": 29,
   "id": "60024f2e",
   "metadata": {},
   "outputs": [
    {
     "name": "stdout",
     "output_type": "stream",
     "text": [
      "0 1 2 3 4 5 6 7 8 9 "
     ]
    }
   ],
   "source": [
    "for x in range(10):\n",
    "   \n",
    "   print(x,end=' ')"
   ]
  },
  {
   "cell_type": "code",
   "execution_count": 30,
   "id": "6f0c0bfd",
   "metadata": {},
   "outputs": [
    {
     "name": "stdout",
     "output_type": "stream",
     "text": [
      "0 1 2 3 4 5 6 7 8 9 "
     ]
    }
   ],
   "source": [
    "for x in range(0,10):\n",
    "   \n",
    "   print(x,end=' ')"
   ]
  },
  {
   "cell_type": "code",
   "execution_count": 31,
   "id": "6a1661ab",
   "metadata": {},
   "outputs": [
    {
     "name": "stdout",
     "output_type": "stream",
     "text": [
      "0 1 2 3 4 5 6 7 8 9 "
     ]
    }
   ],
   "source": [
    "for x in range(0,10,1):\n",
    "   \n",
    "   print(x,end=' ')"
   ]
  },
  {
   "cell_type": "markdown",
   "id": "b6341e76",
   "metadata": {},
   "source": [
    "range(10) --> It considers numbers from 0 to 9. 10 is the stop value so it will generate sequence start from 0 to stop -1\n",
    "range(0,10) -->0 is the start value and 10 is the stop value -1 i.e 0 to 9\n",
    "range(0,10,1) --> here 1 is the step value. \n",
    "                  Specifies the increment value each next number in the sequence is generated \n",
    "                  by adding the step value to a preceding number. The default value is 1 if not specified. \n",
    "                  It is nothing but a difference between each number in the result ."
   ]
  },
  {
   "cell_type": "markdown",
   "id": "fe5d90ba",
   "metadata": {},
   "source": [
    "# 12. Write a short program that prints the numbers 1 to 10 using a for loop. Then write an equivalent program that prints the numbers 1 to 10 using a while loop."
   ]
  },
  {
   "cell_type": "code",
   "execution_count": 42,
   "id": "e55c3306",
   "metadata": {},
   "outputs": [
    {
     "data": {
      "text/plain": [
       "[1, 2, 3, 4, 5, 6, 7, 8, 9, 10]"
      ]
     },
     "execution_count": 42,
     "metadata": {},
     "output_type": "execute_result"
    }
   ],
   "source": [
    "[i for i in range(1,11)]"
   ]
  },
  {
   "cell_type": "code",
   "execution_count": 49,
   "id": "8d6f7563",
   "metadata": {},
   "outputs": [
    {
     "name": "stdout",
     "output_type": "stream",
     "text": [
      "1 2 3 4 5 6 7 8 9 10 "
     ]
    }
   ],
   "source": [
    "x=0\n",
    "while x<10:\n",
    "    x+=1\n",
    "    print(x,end=' ')"
   ]
  },
  {
   "cell_type": "markdown",
   "id": "d6a79242",
   "metadata": {},
   "source": [
    "# 13. If you had a function named bacon() inside a module named spam, how would you call it after importing spam?"
   ]
  },
  {
   "cell_type": "markdown",
   "id": "810d3b0f",
   "metadata": {},
   "source": [
    "spam.bacon()"
   ]
  }
 ],
 "metadata": {
  "kernelspec": {
   "display_name": "Python 3",
   "language": "python",
   "name": "python3"
  },
  "language_info": {
   "codemirror_mode": {
    "name": "ipython",
    "version": 3
   },
   "file_extension": ".py",
   "mimetype": "text/x-python",
   "name": "python",
   "nbconvert_exporter": "python",
   "pygments_lexer": "ipython3",
   "version": "3.8.8"
  }
 },
 "nbformat": 4,
 "nbformat_minor": 5
}
